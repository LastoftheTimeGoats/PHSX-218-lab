{
 "cells": [
  {
   "cell_type": "code",
   "execution_count": 26,
   "metadata": {},
   "outputs": [],
   "source": [
    "import numpy as np\n",
    "import matplotlib as plt"
   ]
  },
  {
   "cell_type": "code",
   "execution_count": 13,
   "metadata": {},
   "outputs": [],
   "source": [
    "def Cof_linearexpansion(t_length,x_temp,x_length):\n",
    "    linearexpansion = (x_length/(t_length*x_temp))\n",
    "    return linearexpansion\n"
   ]
  },
  {
   "cell_type": "code",
   "execution_count": 16,
   "metadata": {},
   "outputs": [
    {
     "name": "stdout",
     "output_type": "stream",
     "text": [
      "The coefficient of linear expansion is  0.017228309558266142 milimeters per degree Celcius\n"
     ]
    }
   ],
   "source": [
    "x_length = 1250\n",
    "T_final = 92.5\n",
    "T_inital = 23.4\n",
    "L_final = 1051.25\n",
    "L_inital = 1050\n",
    "t_length = 1050\n",
    "x_temp = T_final - T_inital\n",
    "\n",
    "coeff = Cof_linearexpansion(t_length,x_temp,x_length)\n",
    "print(\"The coefficient of linear expansion is \" ,coeff, \"milimeters per degree Celcius\")\n"
   ]
  },
  {
   "cell_type": "code",
   "execution_count": 27,
   "metadata": {},
   "outputs": [
    {
     "name": "stdout",
     "output_type": "stream",
     "text": [
      "0.31622776601683794\n"
     ]
    }
   ],
   "source": [
    "\n",
    "d_Tf = 0.3\n",
    "d_Ti = 0.1\n",
    "\n",
    "def rule3(dA,dB):\n",
    "    dQ = np.sqrt((dA)**2+(dB)**2)\n",
    "    return dQ\n",
    "\n",
    "errdeltaT = rule3(d_Tf,d_Ti)\n",
    "print(errdeltaT)"
   ]
  },
  {
   "cell_type": "code",
   "execution_count": null,
   "metadata": {},
   "outputs": [],
   "source": [
    "def rule4():\n",
    "    dQ = sqrt(((d_length)/(t_length)**2+((d_xl/x_lenth))**2+((d_Tf/T_final)))**2+((d_Ti/T_inital))**2)"
   ]
  }
 ],
 "metadata": {
  "kernelspec": {
   "display_name": "Python 3",
   "language": "python",
   "name": "python3"
  },
  "language_info": {
   "codemirror_mode": {
    "name": "ipython",
    "version": 3
   },
   "file_extension": ".py",
   "mimetype": "text/x-python",
   "name": "python",
   "nbconvert_exporter": "python",
   "pygments_lexer": "ipython3",
   "version": "3.6.5"
  }
 },
 "nbformat": 4,
 "nbformat_minor": 2
}
