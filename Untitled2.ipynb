{
 "cells": [
  {
   "cell_type": "code",
   "execution_count": 2,
   "metadata": {},
   "outputs": [],
   "source": [
    "import numpy as np\n",
    "import matplotlib as plt"
   ]
  },
  {
   "cell_type": "code",
   "execution_count": 18,
   "metadata": {},
   "outputs": [],
   "source": [
    "def Cof_linearexpansion(t_length,x_temp,x_length):\n",
    "       linearexpansion = (x_length/(t_length*x_temp))\n",
    "       return linearexpansion"
   ]
  },
  {
   "cell_type": "code",
   "execution_count": 26,
   "metadata": {},
   "outputs": [],
   "source": [
    "t_length = 1050\n",
    "Ti = 23.4\n",
    "Tf = 92.5\n",
    "x_temp = Tf - Ti\n",
    "x_length = 1250"
   ]
  },
  {
   "cell_type": "code",
   "execution_count": 28,
   "metadata": {},
   "outputs": [
    {
     "name": "stdout",
     "output_type": "stream",
     "text": [
      "0.017228309558266142\n"
     ]
    }
   ],
   "source": [
    "coeff = Cof_linearexpansion(t_length,x_temp,x_length)\n",
    "print(coeff)"
   ]
  },
  {
   "cell_type": "code",
   "execution_count": 35,
   "metadata": {},
   "outputs": [
    {
     "name": "stdout",
     "output_type": "stream",
     "text": [
      "The error in the change in temperature is  0.31622776601683794 degrees Celcius\n"
     ]
    }
   ],
   "source": [
    "d_Tf = 0.3\n",
    "d_Ti = 0.1\n",
    "def rule3(dA,dB):\n",
    "    dQ = np.sqrt((dA)**2+(dB)**2)\n",
    "    return dQ\n",
    "    \n",
    "errdeltaT = rule3(d_Tf,d_Ti)\n",
    "print(\"The error in the change in temperature is \" ,errdeltaT, \"degrees Celcius\")"
   ]
  },
  {
   "cell_type": "code",
   "execution_count": 37,
   "metadata": {},
   "outputs": [
    {
     "name": "stdout",
     "output_type": "stream",
     "text": [
      "The error in the coefficient of linear expansion is  1.8651528113251208e-05 milimeters per degree Celcius\n"
     ]
    }
   ],
   "source": [
    "Tf = 92.5\n",
    "Ti = 23.4\n",
    "X_T = Tf - Ti\n",
    "d_Xl = 0.01\n",
    "Xl = 1.25\n",
    "d_l = 1\n",
    "l = 1050\n",
    "def rule4(dA,A,dB,B,dC,C):\n",
    "     dS = coeff*np.sqrt(((dA)/(A)**2+((dB/B))**2+((dC/C)))**2)\n",
    "     return dS\n",
    " \n",
    "errdeltaS = rule4(errdeltaT,X_T,d_Xl,Xl,d_l,l)\n",
    "print(\"The error in the coefficient of linear expansion is \" ,errdeltaS, \"milimeters per degree Celcius\")"
   ]
  },
  {
   "cell_type": "code",
   "execution_count": 40,
   "metadata": {},
   "outputs": [
    {
     "name": "stdout",
     "output_type": "stream",
     "text": [
      "Therefore we can measure the coefficient of linear expansion to be 0.017228309558266142 ± 1.8651528113251208e-05 milimeters per degree Celcius.\n"
     ]
    }
   ],
   "source": [
    "print(\"Therefore we can measure the coefficient of linear expansion to be\" ,coeff, \"±\" ,errdeltaS, \"milimeters per degree Celcius.\")"
   ]
  },
  {
   "cell_type": "code",
   "execution_count": null,
   "metadata": {},
   "outputs": [],
   "source": []
  }
 ],
 "metadata": {
  "kernelspec": {
   "display_name": "Python 3",
   "language": "python",
   "name": "python3"
  },
  "language_info": {
   "codemirror_mode": {
    "name": "ipython",
    "version": 3
   },
   "file_extension": ".py",
   "mimetype": "text/x-python",
   "name": "python",
   "nbconvert_exporter": "python",
   "pygments_lexer": "ipython3",
   "version": "3.6.5"
  }
 },
 "nbformat": 4,
 "nbformat_minor": 2
}
